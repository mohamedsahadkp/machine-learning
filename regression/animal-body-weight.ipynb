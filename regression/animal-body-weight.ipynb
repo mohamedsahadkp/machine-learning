{
 "cells": [
  {
   "cell_type": "markdown",
   "metadata": {
    "collapsed": false
   },
   "source": [
    "#### Predict animal body weight using their brain weight\n",
    "\n",
    "##### Implement using Linear Regression\n",
    "\n",
    "[Udacity's home page](https://www.udacity.com)"
   ]
  },
  {
   "cell_type": "code",
   "execution_count": 25,
   "metadata": {
    "collapsed": false
   },
   "outputs": [
    {
     "data": {
      "image/png": "[encoded data removed]",
      "text/plain": [
       "<matplotlib.figure.Figure at 0x7f28369d8f28>"
      ]
     },
     "metadata": {},
     "output_type": "display_data"
    },
    {
     "name": "stdout",
     "output_type": "stream",
     "text": [
      "[[ 78.42354057]]\n"
     ]
    }
   ],
   "source": [
    "import pandas as pd\n",
    "import matplotlib.pyplot as plt\n",
    "from sklearn.linear_model import LinearRegression\n",
    "\n",
    "# read data\n",
    "data = pd.read_csv('./data/brain-body.csv')\n",
    "feature = pd.DataFrame(data, columns = [\"Brain\"])\n",
    "label = pd.DataFrame(data, columns = [\"Body\"])\n",
    "\n",
    "# train model\n",
    "model = LinearRegression()\n",
    "model.fit(feature, label)\n",
    "\n",
    "# visualize data\n",
    "plt.scatter(feature, label)\n",
    "plt.plot(feature, model.predict(feature))\n",
    "plt.show()\n",
    "\n",
    "# Result\n",
    "result = model.predict(69)\n",
    "print(result)"
   ]
  },
  {
   "cell_type": "code",
   "execution_count": null,
   "metadata": {
    "collapsed": true
   },
   "outputs": [],
   "source": []
  }
 ],
 "metadata": {
  "kernelspec": {
   "display_name": "Python 3",
   "language": "python",
   "name": "python3"
  },
  "language_info": {
   "codemirror_mode": {
    "name": "ipython",
    "version": 3
   },
   "file_extension": ".py",
   "mimetype": "text/x-python",
   "name": "python",
   "nbconvert_exporter": "python",
   "pygments_lexer": "ipython3",
   "version": "3.6.0"
  }
 },
 "nbformat": 4,
 "nbformat_minor": 1
}
