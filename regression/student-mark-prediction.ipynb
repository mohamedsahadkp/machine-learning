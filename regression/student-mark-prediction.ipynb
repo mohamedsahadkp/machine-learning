{
 "cells": [
  {
   "cell_type": "code",
   "execution_count": 5,
   "metadata": {
    "collapsed": false
   },
   "outputs": [
    {
     "name": "stdout",
     "output_type": "stream",
     "text": [
      "[[ 45.48780488]]\n"
     ]
    }
   ],
   "source": [
    "# Predict student mark based number of hour he study using LinearRegression\n",
    "\n",
    "from sklearn.linear_model import LinearRegression\n",
    "import pandas as pd\n",
    "\n",
    "# set data\n",
    "# #number of hour study\n",
    "feature2 = pd.DataFrame([5 , 4, 1, 10, 2])\n",
    "\n",
    "# #mark secured\n",
    "label3 = pd.DataFrame([60, 55, 30, 80, 40])\n",
    "\n",
    "# train model\n",
    "reg = LinearRegression()\n",
    "reg.fit(feature2, label3)\n",
    "\n",
    "# predict result\n",
    "result = reg.predict(3)\n",
    "print(result)\n"
   ]
  },
  {
   "cell_type": "code",
   "execution_count": null,
   "metadata": {
    "collapsed": true
   },
   "outputs": [],
   "source": []
  }
 ],
 "metadata": {
  "kernelspec": {
   "display_name": "Python 3",
   "language": "python",
   "name": "python3"
  },
  "language_info": {
   "codemirror_mode": {
    "name": "ipython",
    "version": 3
   },
   "file_extension": ".py",
   "mimetype": "text/x-python",
   "name": "python",
   "nbconvert_exporter": "python",
   "pygments_lexer": "ipython3",
   "version": "3.6.0"
  }
 },
 "nbformat": 4,
 "nbformat_minor": 1
}
