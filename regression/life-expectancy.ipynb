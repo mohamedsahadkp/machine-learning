{
 "cells": [
  {
   "cell_type": "markdown",
   "metadata": {
    "collapsed": false
   },
   "source": [
    "#### Predict life expectancy using body mass index (BMI) from birth\n",
    "\n",
    "##### Implement using Linear Regression\n",
    "\n",
    "[Udacity's home page](https://www.udacity.com)"
   ]
  },
  {
   "cell_type": "code",
   "execution_count": null,
   "metadata": {
    "collapsed": true
   },
   "outputs": [],
   "source": [
    "import pandas as pd\n",
    "from sklearn.linear_model import LinearRegression\n",
    "\n",
    "data = pd.read_csv('./bmi_data.csv')\n",
    "\n",
    "feature = pd.DataFrame(data, columns=[\"BMI\"])\n",
    "label = pd.DataFrame(data, columns=[\"Life expectancy\"])\n",
    "\n",
    "model = LinearRegression()\n",
    "model.fit(feature, label)\n",
    "\n",
    "result = model.predict(69)\n",
    "print result"
   ]
  },
  {
   "cell_type": "code",
   "execution_count": null,
   "metadata": {
    "collapsed": true
   },
   "outputs": [],
   "source": []
  }
 ],
 "metadata": {
  "kernelspec": {
   "display_name": "Python 3",
   "language": "python",
   "name": "python3"
  },
  "language_info": {
   "codemirror_mode": {
    "name": "ipython",
    "version": 3
   },
   "file_extension": ".py",
   "mimetype": "text/x-python",
   "name": "python",
   "nbconvert_exporter": "python",
   "pygments_lexer": "ipython3",
   "version": "3.6.0"
  }
 },
 "nbformat": 4,
 "nbformat_minor": 1
}
